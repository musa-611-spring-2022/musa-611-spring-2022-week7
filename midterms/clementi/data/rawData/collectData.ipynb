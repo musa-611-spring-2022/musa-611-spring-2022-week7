{
 "cells": [
  {
   "cell_type": "markdown",
   "metadata": {},
   "source": [
    "collectData.py   \n",
    "Johnathan Clementi   \n",
    "March, 2022   \n",
    "\n",
    "This script gathers data used to make the Hudson River School of Art mapper and visualizer webpage"
   ]
  },
  {
   "cell_type": "code",
   "execution_count": 1,
   "metadata": {},
   "outputs": [],
   "source": [
    "from bs4 import BeautifulSoup\n",
    "import urllib.request\n",
    "import regex as re\n",
    "import requests\n",
    "import pandas as pd\n",
    "import numpy as np\n",
    "import json\n",
    "import os"
   ]
  },
  {
   "cell_type": "code",
   "execution_count": 2,
   "metadata": {},
   "outputs": [],
   "source": [
    "path = os.getcwd()\n",
    "\n",
    "# The url to pull data from:\n",
    "url = \"https://en.wikipedia.org/wiki/List_of_Hudson_River_School_artists\"\n",
    "\n",
    "df = pd.read_html(url)[0]\n",
    "# df"
   ]
  },
  {
   "cell_type": "code",
   "execution_count": 3,
   "metadata": {},
   "outputs": [
    {
     "name": "stdout",
     "output_type": "stream",
     "text": [
      "The proper output folder exists, moving on\n",
      "The proper output folder exists, moving on\n",
      "The proper output folder exists, moving on\n",
      "The proper output folder exists, moving on\n",
      "The proper output folder exists, moving on\n",
      "The proper output folder exists, moving on\n"
     ]
    }
   ],
   "source": [
    "# https://stackoverflow.com/questions/56757261/extract-href-using-pandas-read-html\n",
    "\n",
    "response = requests.get(url)\n",
    "soup = BeautifulSoup(response.text, 'html.parser')\n",
    "table = soup.find('table')\n",
    "\n",
    "linkNames = []\n",
    "artistNames = []\n",
    "links = []\n",
    "for tr in table.findAll(\"tr\"):\n",
    "    trs = tr.findAll(\"td\")\n",
    "    for each in trs:\n",
    "        try:\n",
    "            linkName = each.find(\"a\", attrs={\"class\":\"extiw\"})\n",
    "            if type(linkName) != type(None):\n",
    "                # linkNames.append(linkName) # Append whole BS4 object to list\n",
    "                \n",
    "                # Parse out links\n",
    "                pageLink = re.sub(\"^.*href=\\\"\",\"\", str(linkName))\n",
    "                pageLink = re.sub(\"\\\".*\", \"\", pageLink, count=0)\n",
    "                links.append(pageLink)\n",
    "\n",
    "                pageName = re.sub(\"^.*Category:\", \"\", str(linkName))\n",
    "                pageName = re.sub(\"\\\">.*\", \"\", pageName, count=0)\n",
    "                pageName = re.sub(\" \", \"_\", pageName)\n",
    "                artistNames.append(pageName)\n",
    "\n",
    "                # Create directories for each artist & the images associated with them\n",
    "                outFolder = \"{}\\\\images\\\\{}\".format(path, pageName)\n",
    "                if os.path.exists(outFolder):\n",
    "                    if os.path.isdir(outFolder):\n",
    "                        print('The proper output folder exists, moving on')\n",
    "                    else:\n",
    "                        os.mkdir(outFolder)\n",
    "                        # print('Created the output directory')\n",
    "                else: \n",
    "                    os.mkdir(outFolder)\n",
    "                    # print('Created the output directory')\n",
    "\n",
    "                # Download images from each Artist's page\n",
    "                response = requests.get(pageLink)\n",
    "                soup = BeautifulSoup(response.text, 'html.parser')\n",
    "                galleryBox = soup.findAll(\"li\", attrs={\"class\":\"gallerybox\"})\n",
    "\n",
    "                for box in galleryBox:\n",
    "                    img = box.findAll(\"a\", attrs={\"class\":\"image\"})\n",
    "                    # print(img)\n",
    "                    \n",
    "                    imgLink = re.sub(\"^.*src=\\\"\", \"\", str(img), count=0)\n",
    "                    imgLink = re.sub(\"\\/thumb\", \"\", imgLink, count=0) # Remove tag that makes img a thumbnail\n",
    "                    regx_jpg = re.compile(\"jpg\")\n",
    "                    regx_png = re.compile(\"png\")\n",
    "                    if regx_jpg.search(imgLink):\n",
    "                        imgLink, sp, tail = imgLink.partition(\"jpg\") # split text at the first jpg tag\n",
    "                        imgLink = imgLink + sp # Add separator back in\n",
    "                    elif regx_png.search(imgLink):\n",
    "                        imgLink, sp, tail = imgLink.partition(\"png\") # split text at the first png tag\n",
    "                        imgLink = imgLink + sp # Add separator back in\n",
    "                    \n",
    "                    imgName = re.sub(\"^.*commons\\/.{1}\\/.{2}\\/\", \"\", str(imgLink))\n",
    "                    imgName = re.sub(\"\\%2\", \"_\", imgName)\n",
    "\n",
    "                    imgPath = \"{}\\\\{}\".format(outFolder, imgName)\n",
    "\n",
    "                    # Download the image\n",
    "                    urllib.request.urlretrieve(imgLink, imgPath)\n",
    "        except:\n",
    "            pass\n",
    "\n",
    "\n",
    "\n",
    "# linkNames = list(filter(None, linkNames)) # Remove None from list\n",
    "\n",
    "# Compress into a df\n",
    "wikiArtistPgs = pd.DataFrame(artistNames)\n",
    "wikiArtistPgs.columns = ['artist_name']\n",
    "wikiArtistPgs['content_link'] = links\n",
    "# wikiArtistPgs['BS4_return'] = linkNames\n",
    "# wikiArtistPgs"
   ]
  },
  {
   "cell_type": "code",
   "execution_count": null,
   "metadata": {},
   "outputs": [],
   "source": [
    "wikiImages = []\n",
    "\n",
    "for link in links:\n",
    "  response = requests.get(link)\n",
    "  soup = BeautifulSoup(response.text, 'html.parser')\n",
    "  galleryBox = soup.findAll(\"li\", attrs={\"class\":\"gallerybox\"})\n",
    "\n",
    "  # galleryText = soup.findAll(\"div\", attrs={\"class\":\"gallerytext\"})\n",
    "  # for txt in galleryText:\n",
    "    #   pageLink = txt.find(\"a\", attrs={\"class\":\"galleryfilename galleryfilename-truncate\"})\n",
    "    #   pageLink = re.sub(\"^.*href=\\\"\",\"\", str(pageLink))\n",
    "    #   pageLink = re.sub(\"\\\".*\", \"\", pageLink, count=0)\n",
    "    #   pageLink = \"https://commons.wikimedia.org{}\".format(pageLink)\n",
    "    #   print(pageLink) \n",
    "\n",
    "\n",
    "  for box in galleryBox:\n",
    "    img = box.findAll(\"a\", attrs={\"class\":\"image\"})\n",
    "    # print(img)\n",
    "    \n",
    "    imgLink = re.sub(\"^.*src=\\\"\", \"\", str(img), count=0)\n",
    "    imgLink = re.sub(\"\\/thumb\", \"\", imgLink, count=0) # Remove tag that makes img a thumbnail\n",
    "    regx_jpg = re.compile(\"jpg\")\n",
    "    regx_png = re.compile(\"png\")\n",
    "    if regx_jpg.search(imgLink):\n",
    "      imgLink, sp, tail = imgLink.partition(\"jpg\") # split text at the first jpg tag\n",
    "      imgLink = imgLink + sp # Add separator back in\n",
    "    elif regx_png.search(imgLink):\n",
    "      imgLink, sp, tail = imgLink.partition(\"png\") # split text at the first png tag\n",
    "      imgLink = imgLink + sp # Add separator back in\n",
    "    \n",
    "    imgName = re.sub(\"^.*commons\\/.{1}\\/.{2}\\/\", \"\", str(imgLink))\n",
    "    imgName = re.sub(\"\\%2\", \"_\", imgName)\n",
    "\n",
    "    # Download the image\n",
    "    urllib.request.urlretrieve(imgLink, imgName)\n",
    "\n",
    "\n"
   ]
  },
  {
   "cell_type": "code",
   "execution_count": 54,
   "metadata": {},
   "outputs": [
    {
     "data": {
      "text/plain": [
       "('CharlesBakerSunset.jpg', <http.client.HTTPMessage at 0x232df65fd60>)"
      ]
     },
     "execution_count": 54,
     "metadata": {},
     "output_type": "execute_result"
    }
   ],
   "source": [
    "# How to download images from url: https://stackoverflow.com/questions/30229231/python-save-image-from-url\n",
    "img_url = \"https://upload.wikimedia.org/wikipedia/commons/b/bf/Baker%2C_Charles_-_Sunset_by_the_Lake_%281849%29.jpg\"\n",
    "urllib.request.urlretrieve(img_url, \"CharlesBakerSunset.jpg\")"
   ]
  },
  {
   "cell_type": "code",
   "execution_count": 23,
   "metadata": {},
   "outputs": [],
   "source": [
    "# # empty list\n",
    "# data = []\n",
    "# list_header = []\n",
    "\n",
    "# header = soup.find_all(\"table\")[0].find(\"tr\")\n",
    "  \n",
    "# for items in header:\n",
    "#     try:\n",
    "#         list_header.append(items.get_text())\n",
    "#     except:\n",
    "#         continue\n",
    "  \n",
    "# # for getting the data \n",
    "# HTML_data = soup.find_all(\"table\")[0].find_all(\"tr\")[1:]\n",
    "  \n",
    "# for element in HTML_data:\n",
    "#     sub_data = []\n",
    "#     for sub_element in element:\n",
    "#         try:\n",
    "#             sub_data.append(sub_element.get_text())\n",
    "#         except:\n",
    "#             continue\n",
    "#     data.append(sub_data)\n",
    "  \n",
    "# # Storing the data into Pandas\n",
    "# # DataFrame \n",
    "# dataFrame = pd.DataFrame(data = data, columns = list_header)"
   ]
  },
  {
   "cell_type": "code",
   "execution_count": 24,
   "metadata": {},
   "outputs": [
    {
     "name": "stderr",
     "output_type": "stream",
     "text": [
      "C:\\Users\\Johnathan\\AppData\\Local\\Temp\\ipykernel_15820\\1010148947.py:7: VisibleDeprecationWarning: Creating an ndarray from ragged nested sequences (which is a list-or-tuple of lists-or-tuples-or ndarrays with different lengths or shapes) is deprecated. If you meant to do this, you must specify 'dtype=object' when creating the ndarray.\n",
      "  h3s = np.asarray(h3s)\n"
     ]
    }
   ],
   "source": [
    "# The url to pull data from:\n",
    "url = \"https://www.hudsonriverschool.org/hudsonrivervalley\"\n",
    "\n",
    "response = requests.get(url)\n",
    "soup = BeautifulSoup(response.text, 'html.parser')\n",
    "h3s = soup.findAll('h3')\n",
    "h3s = np.asarray(h3s)"
   ]
  },
  {
   "cell_type": "code",
   "execution_count": 25,
   "metadata": {},
   "outputs": [],
   "source": [
    "sites = []\n",
    "\n",
    "for site in h3s:\n",
    "  site = str(site)\n",
    "  siteName = re.search(\"\\;\\\"\\>.*(\\<br\\/\\>){1}\", site)\n",
    "  siteName = re.sub(\"^.*;\\\">\", \"\", str(siteName))\n",
    "  siteName = re.sub(\"<.*\", \"\", str(siteName))\n",
    "  if siteName != \"None\":\n",
    "    sites.append(siteName)\n",
    "\n",
    "sitesDF = pd.DataFrame(sites)\n",
    "sitesDF.columns = ['SiteName']\n",
    "# sitesDF"
   ]
  },
  {
   "cell_type": "code",
   "execution_count": 26,
   "metadata": {},
   "outputs": [],
   "source": [
    "subpages = soup.findAll('div', attrs={\"class\":\"intrinsic\"})\n",
    "# str(subpages[2])\n",
    "\n",
    "pgLinks = []\n",
    "\n",
    "for page in subpages:\n",
    "  page = str(page)\n",
    "  pageLink = re.search(\"href=\\\"\\/.*\\\"\", page)\n",
    "  pageLink = re.sub(\"^.*match='href=\\\"\",\"\", str(pageLink))\n",
    "  pageLink = re.sub(\"\\\"\\'>\", \"\", pageLink)\n",
    "  pageLink = \"https://www.hudsonriverschool.org{}\".format(pageLink)\n",
    "  pgLinks.append(pageLink)\n",
    "\n",
    "for i in range(3):\n",
    "  pgLinks.pop()\n",
    "\n",
    "# pgLinks\n",
    "\n",
    "sitesDF['pageLink'] = pgLinks\n",
    "\n",
    "\n",
    "sitesDF.to_csv('{}\\\\sitenames.csv'.format(path))"
   ]
  },
  {
   "cell_type": "code",
   "execution_count": 27,
   "metadata": {},
   "outputs": [],
   "source": [
    "siteNames = []\n",
    "siteCoords = []\n",
    "long = []\n",
    "lat = []\n",
    "\n",
    "for url in pgLinks:\n",
    "  response = requests.get(url)\n",
    "  soup = BeautifulSoup(response.text, 'html.parser')\n",
    "\n",
    "  # Get site name from H2 elements in page\n",
    "  h2s = soup.findAll('h2')\n",
    "  for h2 in h2s:\n",
    "    siteName = re.search(\"Site.*\", str(h2))\n",
    "    siteName = re.sub(\"^.*\\#[0-9][0-9]*\", \"\", str(siteName))\n",
    "    siteName = re.sub(\"<\\/h2>\\'>\", \"\", str(siteName))\n",
    "    if siteName != \"None\":\n",
    "      siteNames.append(siteName)\n",
    "\n",
    "  # Get lat and long values from paragraph elements in the page\n",
    "  ps = soup.findAll('p')\n",
    "  for p in ps:\n",
    "    pElement = str(p)\n",
    "    coords = re.search(\"Site coordinates.*Long\", pElement)\n",
    "    latlong = re.sub(\"^.*match='\",\"\", str(coords))\n",
    "    latlong = re.sub(\"\\'>\", \"\", latlong)\n",
    "    if latlong != \"None\":\n",
    "      siteCoords.append(latlong)\n",
    "\n",
    "      lt = re.search(\"\\: .*\\, \", latlong)\n",
    "      lt = re.sub(\"^.*match=\\'\\: \", \"\", str(lt))\n",
    "      lt = re.sub(\" Lat\\.\\, \\'>\", \"\", lt)\n",
    "      lt = re.sub(\"\\, \\'>\", \"\", lt)\n",
    "      lat.append(lt)\n",
    "\n",
    "      lng = re.search(\"\\, .*Long\", latlong)\n",
    "      lng = re.sub(\"^.*match=\\'\\, \", \"\", str(lng))\n",
    "      lng = re.sub(\" Long\\'>\", \"\", lng)\n",
    "      long.append(lng)"
   ]
  },
  {
   "cell_type": "code",
   "execution_count": 28,
   "metadata": {},
   "outputs": [],
   "source": [
    "sitesLocDf = pd.DataFrame(siteNames)\n",
    "sitesLocDf['siteCoords'] = siteCoords\n",
    "sitesLocDf['lat'] = lat\n",
    "sitesLocDf['long'] = long\n",
    "\n",
    "# Write to csv\n",
    "# sitesLocDf.to_csv('{}\\\\siteloc.csv'.format(path))"
   ]
  },
  {
   "cell_type": "code",
   "execution_count": 34,
   "metadata": {},
   "outputs": [],
   "source": [
    "siteImgs = []\n",
    "\n",
    "for url in pgLinks:\n",
    "  response = requests.get(url)\n",
    "  soup = BeautifulSoup(response.text, 'html.parser')\n",
    "\n",
    "  # Get site name from H2 elements in page\n",
    "  # h2s = soup.findAll('h2')\n",
    "  # for h2 in h2s:\n",
    "  #   siteName = re.search(\"Site.*\", str(h2))\n",
    "  #   siteName = re.sub(\"^.*\\#[0-9][0-9]*\", \"\", str(siteName))\n",
    "  #   siteName = re.sub(\"<\\/h2>\\'>\", \"\", str(siteName))\n",
    "  #   if siteName != \"None\":\n",
    "  #     siteNames.append(siteName)\n",
    "\n",
    "  # Get images from each subpage\n",
    "  imgs = soup.findAll('img')\n",
    "  imgLink = re.search(\"src=\\\".*\\\"{1}\", str(imgs))\n",
    "  siteImgs.append(imgLink)\n",
    "  # print(imgLink)"
   ]
  },
  {
   "cell_type": "code",
   "execution_count": 42,
   "metadata": {},
   "outputs": [
    {
     "name": "stdout",
     "output_type": "stream",
     "text": [
      "<regex.Match object; span=(68\n",
      "#################################\n",
      " 4821)\n",
      "#################################\n",
      " match='src=\"//images.squarespace-cdn.com/content/v1/5cec0723a613da0001c31544/1558972846717-OQ2U9Q8SISP0PTTJGRCQ/Art+Trail+insignia+3+color.png?format=1500w\"/>\n",
      "#################################\n",
      " <img alt=\"Hudson River Art Trail\" class=\"Header-branding-logo\" src=\"//images.squarespace-cdn.com/content/v1/5cec0723a613da0001c31544/1558972846717-OQ2U9Q8SISP0PTTJGRCQ/Art+Trail+insignia+3+color.png?format=1500w\"/>\n",
      "#################################\n",
      " <img alt=\"Thomas_Cole_20180514_486_cover_art.jpg\" src=\"https://images.squarespace-cdn.com/content/v1/5cec0723a613da0001c31544/1565033606712-NK99NT69U2617VHDBFNB/Thomas_Cole_20180514_486_cover_art.jpg\"/>\n",
      "#################################\n",
      " <img alt=\"Thomas_Cole_20180514_486_cover_art.jpg\" class=\"thumb-image\" data-image=\"https://images.squarespace-cdn.com/content/v1/5cec0723a613da0001c31544/1565033606712-NK99NT69U2617VHDBFNB/Thomas_Cole_20180514_486_cover_art.jpg\" data-image-dimensions=\"1920x1280\" data-image-focal-point=\"0.5\n",
      "#################################\n",
      "0.5\" data-image-id=\"5d488481fb4ab200014f71f5\" data-load=\"false\" data-src=\"https://images.squarespace-cdn.com/content/v1/5cec0723a613da0001c31544/1565033606712-NK99NT69U2617VHDBFNB/Thomas_Cole_20180514_486_cover_art.jpg\" data-type=\"image\"/>\n",
      "#################################\n",
      " <img alt=\"it_106.jpg\" src=\"https://images.squarespace-cdn.com/content/v1/5cec0723a613da0001c31544/1558985110797-Z0NA1LUXVWL9PXXZD3GP/it_106.jpg\"/>\n",
      "#################################\n",
      " <img alt=\"it_106.jpg\" class=\"thumb-image\" data-image=\"https://images.squarespace-cdn.com/content/v1/5cec0723a613da0001c31544/1558985110797-Z0NA1LUXVWL9PXXZD3GP/it_106.jpg\" data-image-dimensions=\"1000x653\" data-image-focal-point=\"0.5\n",
      "#################################\n",
      "0.5\" data-image-id=\"5cec3996e5e5f004c91cfdd8\" data-load=\"false\" data-src=\"https://images.squarespace-cdn.com/content/v1/5cec0723a613da0001c31544/1558985110797-Z0NA1LUXVWL9PXXZD3GP/it_106.jpg\" data-type=\"image\"/>\n",
      "#################################\n",
      " <img alt=\"it_3.jpg\" src=\"https://images.squarespace-cdn.com/content/v1/5cec0723a613da0001c31544/1558985111063-I0OJYVQWTSLUFAQGE7JJ/it_3.jpg\"/>\n",
      "#################################\n",
      " <img alt=\"it_3.jpg\" class=\"thumb-image\" data-image=\"https://images.squarespace-cdn.com/content/v1/5cec0723a613da0001c31544/1558985111063-I0OJYVQWTSLUFAQGE7JJ/it_3.jpg\" data-image-dimensions=\"1000x639\" data-image-focal-point=\"0.5\n",
      "#################################\n",
      "0.5\" data-image-id=\"5cec39964e17b65333e707e6\" data-load=\"false\" data-src=\"https://images.squarespace-cdn.com/content/v1/5cec0723a613da0001c31544/1558985111063-I0OJYVQWTSLUFAQGE7JJ/it_3.jpg\" data-type=\"image\"/>\n",
      "#################################\n",
      " <img alt=\"it_369.jpg\" src=\"https://images.squarespace-cdn.com/content/v1/5cec0723a613da0001c31544/1558985111532-CKHZU7UOFXS9TDVWNTSK/it_369.jpg\"/>\n",
      "#################################\n",
      " <img alt=\"it_369.jpg\" class=\"thumb-image\" data-image=\"https://images.squarespace-cdn.com/content/v1/5cec0723a613da0001c31544/1558985111532-CKHZU7UOFXS9TDVWNTSK/it_369.jpg\" data-image-dimensions=\"1000x750\" data-image-focal-point=\"0.5\n",
      "#################################\n",
      "0.5\" data-image-id=\"5cec3996a4222f2d3d2b832c\" data-load=\"false\" data-src=\"https://images.squarespace-cdn.com/content/v1/5cec0723a613da0001c31544/1558985111532-CKHZU7UOFXS9TDVWNTSK/it_369.jpg\" data-type=\"image\"/>\n",
      "#################################\n",
      " <img alt=\"it_359.jpg\" src=\"https://images.squarespace-cdn.com/content/v1/5cec0723a613da0001c31544/1558985111610-F9AN9F4BMNDS943P2BL5/it_359.jpg\"/>\n",
      "#################################\n",
      " <img alt=\"it_359.jpg\" class=\"thumb-image\" data-image=\"https://images.squarespace-cdn.com/content/v1/5cec0723a613da0001c31544/1558985111610-F9AN9F4BMNDS943P2BL5/it_359.jpg\" data-image-dimensions=\"853x1000\" data-image-focal-point=\"0.5\n",
      "#################################\n",
      "0.5\" data-image-id=\"5cec3997971a18139a4e52d4\" data-load=\"false\" data-src=\"https://images.squarespace-cdn.com/content/v1/5cec0723a613da0001c31544/1558985111610-F9AN9F4BMNDS943P2BL5/it_359.jpg\" data-type=\"image\"/>\n",
      "#################################\n",
      " <img alt=\"it_216.jpg\" src=\"https://images.squarespace-cdn.com/content/v1/5cec0723a613da0001c31544/1558985112083-SWOK7BESUQD598DFUOA0/it_216.jpg\"/>\n",
      "#################################\n",
      " <img alt=\"it_216.jpg\" class=\"thumb-image\" data-image=\"https://images.squarespace-cdn.com/content/v1/5cec0723a613da0001c31544/1558985112083-SWOK7BESUQD598DFUOA0/it_216.jpg\" data-image-dimensions=\"1000x653\" data-image-focal-point=\"0.5\n",
      "#################################\n",
      "0.5\" data-image-id=\"5cec3997c8302545b925ff92\" data-load=\"false\" data-src=\"https://images.squarespace-cdn.com/content/v1/5cec0723a613da0001c31544/1558985112083-SWOK7BESUQD598DFUOA0/it_216.jpg\" data-type=\"image\"/>\n",
      "#################################\n",
      " <img alt=\"Art Trail insignia 3 color.png\" src=\"https://images.squarespace-cdn.com/content/v1/5cec0723a613da0001c31544/1559061732612-3OXVGPGI5UZQO7ZTI9IU/Art+Trail+insignia+3+color.png\"/>\n",
      "#################################\n",
      " <img alt=\"Art Trail insignia 3 color.png\" class=\"thumb-image\" data-image=\"https://images.squarespace-cdn.com/content/v1/5cec0723a613da0001c31544/1559061732612-3OXVGPGI5UZQO7ZTI9IU/Art+Trail+insignia+3+color.png\" data-image-dimensions=\"600x600\" data-image-focal-point=\"0.5\n",
      "#################################\n",
      "0.5\" data-image-id=\"5ced64e44785d3e27069cfd1\" data-load=\"false\" data-src=\"https://images.squarespace-cdn.com/content/v1/5cec0723a613da0001c31544/1559061732612-3OXVGPGI5UZQO7ZTI9IU/Art+Trail+insignia+3+color.png\" data-type=\"image\"'>\n",
      "#################################\n"
     ]
    }
   ],
   "source": [
    "tst = str(siteImgs[0]).split(\",\")\n",
    "# for i in tst:\n",
    "#   print(i)\n",
    "#   print(\"#################################\")"
   ]
  },
  {
   "cell_type": "code",
   "execution_count": 29,
   "metadata": {},
   "outputs": [
    {
     "data": {
      "text/plain": [
       "[<img alt=\"Hudson River Art Trail\" class=\"Mobile-bar-branding-logo\" src=\"//images.squarespace-cdn.com/content/v1/5cec0723a613da0001c31544/1558972846717-OQ2U9Q8SISP0PTTJGRCQ/Art+Trail+insignia+3+color.png?format=1500w\"/>,\n",
       " <img alt=\"Hudson River Art Trail\" class=\"Header-branding-logo\" src=\"//images.squarespace-cdn.com/content/v1/5cec0723a613da0001c31544/1558972846717-OQ2U9Q8SISP0PTTJGRCQ/Art+Trail+insignia+3+color.png?format=1500w\"/>,\n",
       " <img alt=\"Hudson_river_skywalk.jpg\" src=\"https://images.squarespace-cdn.com/content/v1/5cec0723a613da0001c31544/1565036033975-W4LVIANFR5N89T931N3B/Hudson_river_skywalk.jpg\"/>,\n",
       " <img alt=\"Hudson_river_skywalk.jpg\" class=\"thumb-image\" data-image=\"https://images.squarespace-cdn.com/content/v1/5cec0723a613da0001c31544/1565036033975-W4LVIANFR5N89T931N3B/Hudson_river_skywalk.jpg\" data-image-dimensions=\"2500x1875\" data-image-focal-point=\"0.5,0.5\" data-image-id=\"5d488e007ca5110001ba3da5\" data-load=\"false\" data-src=\"https://images.squarespace-cdn.com/content/v1/5cec0723a613da0001c31544/1565036033975-W4LVIANFR5N89T931N3B/Hudson_river_skywalk.jpg\" data-type=\"image\"/>,\n",
       " <img alt=\"it_547.jpg\" src=\"https://images.squarespace-cdn.com/content/v1/5cec0723a613da0001c31544/1560882726109-H59JSB3XJ8XTWFVAJJRD/it_547.jpg\"/>,\n",
       " <img alt=\"it_547.jpg\" class=\"thumb-image\" data-image=\"https://images.squarespace-cdn.com/content/v1/5cec0723a613da0001c31544/1560882726109-H59JSB3XJ8XTWFVAJJRD/it_547.jpg\" data-image-dimensions=\"855x1000\" data-image-focal-point=\"0.5,0.5\" data-image-id=\"5d092e25d7097700016fbf24\" data-load=\"false\" data-src=\"https://images.squarespace-cdn.com/content/v1/5cec0723a613da0001c31544/1560882726109-H59JSB3XJ8XTWFVAJJRD/it_547.jpg\" data-type=\"image\"/>,\n",
       " <img alt=\"it_546.jpg\" src=\"https://images.squarespace-cdn.com/content/v1/5cec0723a613da0001c31544/1560882725910-R28VDPK6432B4YYNHF71/it_546.jpg\"/>,\n",
       " <img alt=\"it_546.jpg\" class=\"thumb-image\" data-image=\"https://images.squarespace-cdn.com/content/v1/5cec0723a613da0001c31544/1560882725910-R28VDPK6432B4YYNHF71/it_546.jpg\" data-image-dimensions=\"1000x476\" data-image-focal-point=\"0.5,0.5\" data-image-id=\"5d092e256555400001b16a82\" data-load=\"false\" data-src=\"https://images.squarespace-cdn.com/content/v1/5cec0723a613da0001c31544/1560882725910-R28VDPK6432B4YYNHF71/it_546.jpg\" data-type=\"image\"/>,\n",
       " <img alt=\"it_545.jpg\" src=\"https://images.squarespace-cdn.com/content/v1/5cec0723a613da0001c31544/1560882726342-ZTKORKZK8KQ26TCH78DC/it_545.jpg\"/>,\n",
       " <img alt=\"it_545.jpg\" class=\"thumb-image\" data-image=\"https://images.squarespace-cdn.com/content/v1/5cec0723a613da0001c31544/1560882726342-ZTKORKZK8KQ26TCH78DC/it_545.jpg\" data-image-dimensions=\"1000x627\" data-image-focal-point=\"0.5,0.5\" data-image-id=\"5d092e2604d44f0001346371\" data-load=\"false\" data-src=\"https://images.squarespace-cdn.com/content/v1/5cec0723a613da0001c31544/1560882726342-ZTKORKZK8KQ26TCH78DC/it_545.jpg\" data-type=\"image\"/>,\n",
       " <img alt=\"it_544.jpg\" src=\"https://images.squarespace-cdn.com/content/v1/5cec0723a613da0001c31544/1560882726408-TVGIDQU4VAJRPUFNVND7/it_544.jpg\"/>,\n",
       " <img alt=\"it_544.jpg\" class=\"thumb-image\" data-image=\"https://images.squarespace-cdn.com/content/v1/5cec0723a613da0001c31544/1560882726408-TVGIDQU4VAJRPUFNVND7/it_544.jpg\" data-image-dimensions=\"500x354\" data-image-focal-point=\"0.5,0.5\" data-image-id=\"5d092e26c2341b0001fa34de\" data-load=\"false\" data-src=\"https://images.squarespace-cdn.com/content/v1/5cec0723a613da0001c31544/1560882726408-TVGIDQU4VAJRPUFNVND7/it_544.jpg\" data-type=\"image\"/>,\n",
       " <img alt=\"HRS_web.jpg\" src=\"https://images.squarespace-cdn.com/content/v1/5cec0723a613da0001c31544/1560967388284-14EDZ3JIR24W7FCJS8GF/HRS_web.jpg\"/>,\n",
       " <img alt=\"HRS_web.jpg\" class=\"thumb-image\" data-image=\"https://images.squarespace-cdn.com/content/v1/5cec0723a613da0001c31544/1560967388284-14EDZ3JIR24W7FCJS8GF/HRS_web.jpg\" data-image-dimensions=\"1080x626\" data-image-focal-point=\"0.5,0.5\" data-image-id=\"5d0a78da5b4251000130d0b7\" data-load=\"false\" data-src=\"https://images.squarespace-cdn.com/content/v1/5cec0723a613da0001c31544/1560967388284-14EDZ3JIR24W7FCJS8GF/HRS_web.jpg\" data-type=\"image\"/>,\n",
       " <img alt=\"Art Trail insignia 3 color.png\" src=\"https://images.squarespace-cdn.com/content/v1/5cec0723a613da0001c31544/1559061732612-3OXVGPGI5UZQO7ZTI9IU/Art+Trail+insignia+3+color.png\"/>,\n",
       " <img alt=\"Art Trail insignia 3 color.png\" class=\"thumb-image\" data-image=\"https://images.squarespace-cdn.com/content/v1/5cec0723a613da0001c31544/1559061732612-3OXVGPGI5UZQO7ZTI9IU/Art+Trail+insignia+3+color.png\" data-image-dimensions=\"600x600\" data-image-focal-point=\"0.5,0.5\" data-image-id=\"5ced64e44785d3e27069cfd1\" data-load=\"false\" data-src=\"https://images.squarespace-cdn.com/content/v1/5cec0723a613da0001c31544/1559061732612-3OXVGPGI5UZQO7ZTI9IU/Art+Trail+insignia+3+color.png\" data-type=\"image\"/>]"
      ]
     },
     "execution_count": 29,
     "metadata": {},
     "output_type": "execute_result"
    }
   ],
   "source": [
    "# Images from main page\n",
    "imgs = soup.findAll('img')\n",
    "# imgs"
   ]
  }
 ],
 "metadata": {
  "interpreter": {
   "hash": "1e7e171cea119ef928e07b5fcb87425f253860bf90537fd64366dbf2948eb0fb"
  },
  "kernelspec": {
   "display_name": "Python 3.9.10 ('musa650_HW2')",
   "language": "python",
   "name": "python3"
  },
  "language_info": {
   "codemirror_mode": {
    "name": "ipython",
    "version": 3
   },
   "file_extension": ".py",
   "mimetype": "text/x-python",
   "name": "python",
   "nbconvert_exporter": "python",
   "pygments_lexer": "ipython3",
   "version": "3.9.10"
  },
  "orig_nbformat": 4
 },
 "nbformat": 4,
 "nbformat_minor": 2
}
