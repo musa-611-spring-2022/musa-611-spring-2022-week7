{
 "cells": [
  {
   "cell_type": "code",
   "execution_count": 6,
   "id": "18b6b62e",
   "metadata": {},
   "outputs": [],
   "source": [
    "import pandas as pd\n",
    "import geopandas as gpd\n",
    "import esri2gpd"
   ]
  },
  {
   "cell_type": "code",
   "execution_count": 2,
   "id": "b564303e",
   "metadata": {},
   "outputs": [],
   "source": [
    "url = \"https://services.arcgis.com/VhMjCzR3cIjEkh7L/arcgis/rest/services/RTCC_Cameras/FeatureServer/0/\""
   ]
  },
  {
   "cell_type": "code",
   "execution_count": 3,
   "id": "6b3ea5ee",
   "metadata": {},
   "outputs": [],
   "source": [
    "data = esri2gpd.get(url)"
   ]
  },
  {
   "cell_type": "code",
   "execution_count": 5,
   "id": "50fdaf5e",
   "metadata": {},
   "outputs": [
    {
     "data": {
      "text/html": [
       "<div>\n",
       "<style scoped>\n",
       "    .dataframe tbody tr th:only-of-type {\n",
       "        vertical-align: middle;\n",
       "    }\n",
       "\n",
       "    .dataframe tbody tr th {\n",
       "        vertical-align: top;\n",
       "    }\n",
       "\n",
       "    .dataframe thead th {\n",
       "        text-align: right;\n",
       "    }\n",
       "</style>\n",
       "<table border=\"1\" class=\"dataframe\">\n",
       "  <thead>\n",
       "    <tr style=\"text-align: right;\">\n",
       "      <th></th>\n",
       "      <th>geometry</th>\n",
       "      <th>OBJECTID</th>\n",
       "      <th>Unit</th>\n",
       "      <th>Lat</th>\n",
       "      <th>Long</th>\n",
       "      <th>PD_Distric</th>\n",
       "    </tr>\n",
       "  </thead>\n",
       "  <tbody>\n",
       "    <tr>\n",
       "      <th>427</th>\n",
       "      <td>POINT (-90.03534 29.99368)</td>\n",
       "      <td>428</td>\n",
       "      <td>Higgins &amp; Metropolitan</td>\n",
       "      <td>0.0</td>\n",
       "      <td>0.0</td>\n",
       "      <td></td>\n",
       "    </tr>\n",
       "    <tr>\n",
       "      <th>428</th>\n",
       "      <td>POINT (-90.04108 30.00565)</td>\n",
       "      <td>429</td>\n",
       "      <td>Press &amp; Stephen Girard</td>\n",
       "      <td>0.0</td>\n",
       "      <td>0.0</td>\n",
       "      <td></td>\n",
       "    </tr>\n",
       "    <tr>\n",
       "      <th>429</th>\n",
       "      <td>POINT (-89.98549 30.04853)</td>\n",
       "      <td>430</td>\n",
       "      <td>Hayne &amp; Symmes</td>\n",
       "      <td>0.0</td>\n",
       "      <td>0.0</td>\n",
       "      <td></td>\n",
       "    </tr>\n",
       "    <tr>\n",
       "      <th>430</th>\n",
       "      <td>POINT (-89.97917 30.04756)</td>\n",
       "      <td>431</td>\n",
       "      <td>10000 Blk Curran Blvd</td>\n",
       "      <td>0.0</td>\n",
       "      <td>0.0</td>\n",
       "      <td></td>\n",
       "    </tr>\n",
       "    <tr>\n",
       "      <th>431</th>\n",
       "      <td>POINT (-89.99291 30.01339)</td>\n",
       "      <td>432</td>\n",
       "      <td>Chef Hwy &amp; Werner</td>\n",
       "      <td>0.0</td>\n",
       "      <td>0.0</td>\n",
       "      <td></td>\n",
       "    </tr>\n",
       "  </tbody>\n",
       "</table>\n",
       "</div>"
      ],
      "text/plain": [
       "                       geometry  OBJECTID                    Unit  Lat  Long  \\\n",
       "427  POINT (-90.03534 29.99368)       428  Higgins & Metropolitan  0.0   0.0   \n",
       "428  POINT (-90.04108 30.00565)       429  Press & Stephen Girard  0.0   0.0   \n",
       "429  POINT (-89.98549 30.04853)       430          Hayne & Symmes  0.0   0.0   \n",
       "430  POINT (-89.97917 30.04756)       431   10000 Blk Curran Blvd  0.0   0.0   \n",
       "431  POINT (-89.99291 30.01339)       432       Chef Hwy & Werner  0.0   0.0   \n",
       "\n",
       "    PD_Distric  \n",
       "427             \n",
       "428             \n",
       "429             \n",
       "430             \n",
       "431             "
      ]
     },
     "execution_count": 5,
     "metadata": {},
     "output_type": "execute_result"
    }
   ],
   "source": [
    "data.tail()"
   ]
  },
  {
   "cell_type": "code",
   "execution_count": 7,
   "id": "72920a43",
   "metadata": {},
   "outputs": [
    {
     "data": {
      "text/plain": [
       "<Geographic 2D CRS: EPSG:4326>\n",
       "Name: WGS 84\n",
       "Axis Info [ellipsoidal]:\n",
       "- Lat[north]: Geodetic latitude (degree)\n",
       "- Lon[east]: Geodetic longitude (degree)\n",
       "Area of Use:\n",
       "- name: World.\n",
       "- bounds: (-180.0, -90.0, 180.0, 90.0)\n",
       "Datum: World Geodetic System 1984\n",
       "- Ellipsoid: WGS 84\n",
       "- Prime Meridian: Greenwich"
      ]
     },
     "execution_count": 7,
     "metadata": {},
     "output_type": "execute_result"
    }
   ],
   "source": [
    "data.crs"
   ]
  },
  {
   "cell_type": "code",
   "execution_count": 8,
   "id": "e072b865",
   "metadata": {},
   "outputs": [],
   "source": [
    "data.to_file(\"RTCC4326.geojson\", driver='GeoJSON')"
   ]
  },
  {
   "cell_type": "code",
   "execution_count": null,
   "id": "0cb0c5cf",
   "metadata": {},
   "outputs": [],
   "source": []
  }
 ],
 "metadata": {
  "kernelspec": {
   "display_name": "Python 3 (ipykernel)",
   "language": "python",
   "name": "python3"
  },
  "language_info": {
   "codemirror_mode": {
    "name": "ipython",
    "version": 3
   },
   "file_extension": ".py",
   "mimetype": "text/x-python",
   "name": "python",
   "nbconvert_exporter": "python",
   "pygments_lexer": "ipython3",
   "version": "3.8.12"
  }
 },
 "nbformat": 4,
 "nbformat_minor": 5
}
